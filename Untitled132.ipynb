{
  "nbformat": 4,
  "nbformat_minor": 0,
  "metadata": {
    "colab": {
      "name": "Untitled132.ipynb",
      "provenance": [],
      "collapsed_sections": []
    },
    "kernelspec": {
      "name": "python3",
      "display_name": "Python 3"
    }
  },
  "cells": [
    {
      "cell_type": "code",
      "metadata": {
        "id": "t29AIHTtRmU-"
      },
      "source": [
        "import numpy as np\r\n",
        "import matplotlib.pyplot as plt\r\n",
        "import tensorflow as tf \r\n"
      ],
      "execution_count": null,
      "outputs": []
    },
    {
      "cell_type": "code",
      "metadata": {
        "id": "bOHrpEgTYBSK"
      },
      "source": [
        "class Model(object):\r\n",
        "  def __init__(self):\r\n",
        "    self.w = tf.Variable(2.0)\r\n",
        "    self.b= tf.Variable(1.0)\r\n",
        "  def __call__(self,x):\r\n",
        "    return self.w*x+self.b\r\n",
        "model = Model()"
      ],
      "execution_count": null,
      "outputs": []
    },
    {
      "cell_type": "code",
      "metadata": {
        "id": "DeeAckGLo44u"
      },
      "source": [
        "def loss_function(y_pred,y_true):\r\n",
        "  return tf.reduce_mean(tf.square((y_pred-y_true)))"
      ],
      "execution_count": null,
      "outputs": []
    },
    {
      "cell_type": "code",
      "metadata": {
        "id": "WEj4Xm6xpvOz"
      },
      "source": [
        "true_w = 3.0\r\n",
        "true_b = 2.0\r\n",
        "num_examples = 1000\r\n",
        "xs = tf.random.normal(shape=[num_examples])\r\n",
        "ys = true_w*xs+true_b"
      ],
      "execution_count": null,
      "outputs": []
    },
    {
      "cell_type": "code",
      "metadata": {
        "id": "Xo6elfwLsE6M"
      },
      "source": [
        "def plot_data(inputs,outputs,predicted_outputs):\r\n",
        "  real = plt.scatter(inputs,outputs,c ='blue',marker ='.')\r\n",
        "  predicted = plt.scatter(inputs,predicted_outputs,c= 'red',marker='+')\r\n",
        "  plt.legend((real,predicted),('Real','Predicted'))\r\n",
        "  plt.show()"
      ],
      "execution_count": null,
      "outputs": []
    },
    {
      "cell_type": "code",
      "metadata": {
        "colab": {
          "base_uri": "https://localhost:8080/",
          "height": 265
        },
        "id": "ef4D--BhtPUI",
        "outputId": "a7c8dc01-addc-46ea-b329-ca8571929ad9"
      },
      "source": [
        "plot_data(xs,ys,model(xs))"
      ],
      "execution_count": null,
      "outputs": [
        {
          "output_type": "display_data",
          "data": {
            "image/png": "[encoded data removed]",
            "text/plain": [
              "<Figure size 432x288 with 1 Axes>"
            ]
          },
          "metadata": {
            "tags": [],
            "needs_background": "light"
          }
        }
      ]
    },
    {
      "cell_type": "code",
      "metadata": {
        "colab": {
          "base_uri": "https://localhost:8080/"
        },
        "id": "ikXEkITutUJr",
        "outputId": "54923cca-49f1-4657-f026-02bdfd5d70c5"
      },
      "source": [
        "loss_function(model(xs),ys).numpy()"
      ],
      "execution_count": null,
      "outputs": [
        {
          "output_type": "execute_result",
          "data": {
            "text/plain": [
              "2.0452106"
            ]
          },
          "metadata": {
            "tags": []
          },
          "execution_count": 7
        }
      ]
    },
    {
      "cell_type": "code",
      "metadata": {
        "id": "FeT9hBcmtqMA"
      },
      "source": [
        "def train(model,inputs,outputs,learning_rate):\r\n",
        "  with tf.GradientTape() as t:\r\n",
        "    current_loss = loss_function(model(inputs),outputs)\r\n",
        "  dw,db = t.gradient(current_loss,[model.w,model.b])\r\n",
        "  model.w.assign_sub(dw*learning_rate)\r\n",
        "  model.b.assign_sub(db*learning_rate)\r\n",
        "  return current_loss"
      ],
      "execution_count": null,
      "outputs": []
    },
    {
      "cell_type": "code",
      "metadata": {
        "colab": {
          "base_uri": "https://localhost:8080/"
        },
        "id": "rNg9F0tYwK0v",
        "outputId": "9920e09a-e31f-4e79-bdb2-a3f926d8d424"
      },
      "source": [
        "model = Model()\r\n",
        "list_w,list_b =[],[]\r\n",
        "epochs =range(15)\r\n",
        "losses =[]\r\n",
        "for epoch in epochs:\r\n",
        "  list_w.append(model.w.numpy())\r\n",
        "  list_b.append(model.b.numpy())\r\n",
        "  current_loss = train(model,xs,ys,learning_rate=0.1)\r\n",
        "  losses.append(current_loss)\r\n",
        "  print('Epoch %2d: w=%1.2f b=%1.2f, loss=%2.5f' %\r\n",
        "        (epoch, list_w[-1], list_b[-1], current_loss))\r\n"
      ],
      "execution_count": null,
      "outputs": [
        {
          "output_type": "stream",
          "text": [
            "Epoch  0: w=2.00 b=1.00, loss=2.04521\n",
            "Epoch  1: w=2.21 b=1.20, loss=1.29351\n",
            "Epoch  2: w=2.38 b=1.36, loss=0.81835\n",
            "Epoch  3: w=2.51 b=1.48, loss=0.51789\n",
            "Epoch  4: w=2.61 b=1.59, loss=0.32785\n",
            "Epoch  5: w=2.70 b=1.67, loss=0.20761\n",
            "Epoch  6: w=2.76 b=1.73, loss=0.13150\n",
            "Epoch  7: w=2.81 b=1.79, loss=0.08332\n",
            "Epoch  8: w=2.85 b=1.83, loss=0.05281\n",
            "Epoch  9: w=2.88 b=1.86, loss=0.03348\n",
            "Epoch 10: w=2.91 b=1.89, loss=0.02123\n",
            "Epoch 11: w=2.93 b=1.91, loss=0.01347\n",
            "Epoch 12: w=2.94 b=1.93, loss=0.00854\n",
            "Epoch 13: w=2.95 b=1.94, loss=0.00542\n",
            "Epoch 14: w=2.96 b=1.95, loss=0.00344\n"
          ],
          "name": "stdout"
        }
      ]
    },
    {
      "cell_type": "code",
      "metadata": {
        "colab": {
          "base_uri": "https://localhost:8080/",
          "height": 265
        },
        "id": "Anilk0HkwSmJ",
        "outputId": "db8666ae-71fa-4bf9-fb78-64e2248e04f5"
      },
      "source": [
        "plt.plot(epochs,list_w,'r',epochs,list_b,'b')\r\n",
        "plt.plot([true_w]*len(epochs),'r--',[true_b]*len(epochs),'b--')\r\n",
        "plt.legend(['w','b','True_w','True_b'])\r\n",
        "plt.show()"
      ],
      "execution_count": null,
      "outputs": [
        {
          "output_type": "display_data",
          "data": {
            "image/png": "[encoded data removed]",
            "text/plain": [
              "<Figure size 432x288 with 1 Axes>"
            ]
          },
          "metadata": {
            "tags": [],
            "needs_background": "light"
          }
        }
      ]
    },
    {
      "cell_type": "code",
      "metadata": {
        "colab": {
          "base_uri": "https://localhost:8080/",
          "height": 265
        },
        "id": "3Tc2GoH2LUy5",
        "outputId": "d7890b6e-58e4-44e7-e581-f2ce9bd1a2f7"
      },
      "source": [
        "test_input = tf.random.normal(shape=[num_examples])\r\n",
        "test_output = test_input*true_w+true_b\r\n",
        "pred_output = model(test_input)\r\n",
        "plot_data(test_input,test_output,pred_output)"
      ],
      "execution_count": null,
      "outputs": [
        {
          "output_type": "display_data",
          "data": {
            "image/png": "[encoded data removed]",
            "text/plain": [
              "<Figure size 432x288 with 1 Axes>"
            ]
          },
          "metadata": {
            "tags": [],
            "needs_background": "light"
          }
        }
      ]
    },
    {
      "cell_type": "code",
      "metadata": {
        "id": "QLZqLNMrMGlZ"
      },
      "source": [
        "def plot_loss_for_weights(weights_list,losses):\r\n",
        "  for idx,weights in enumerate(weights_list):\r\n",
        "    plt.subplot(120+idx+1)\r\n",
        "    plt.plot(weights['values'],losses,'r')\r\n",
        "    plt.plot(weights['values'],losses,'bo')\r\n",
        "    plt.xlabel(weights['name'])\r\n",
        "    plt.ylabel('Loss')\r\n",
        "\r\n"
      ],
      "execution_count": null,
      "outputs": []
    },
    {
      "cell_type": "code",
      "metadata": {
        "id": "jSrx4d8MOyra"
      },
      "source": [
        "weights_list = [\r\n",
        "                {\r\n",
        "                    'name':'w',\r\n",
        "                    'values': list_w\r\n",
        "                },\r\n",
        "                {\r\n",
        "                    'name':'b',\r\n",
        "                    'values':list_b\r\n",
        "                }\r\n",
        "]"
      ],
      "execution_count": null,
      "outputs": []
    },
    {
      "cell_type": "code",
      "metadata": {
        "colab": {
          "base_uri": "https://localhost:8080/",
          "height": 279
        },
        "id": "DWcjgyNhPGWd",
        "outputId": "80773148-8290-454e-e609-d227841a0a5f"
      },
      "source": [
        "plot_loss_for_weights(weights_list,losses)"
      ],
      "execution_count": null,
      "outputs": [
        {
          "output_type": "display_data",
          "data": {
            "image/png": "[encoded data removed]",
            "text/plain": [
              "<Figure size 432x288 with 2 Axes>"
            ]
          },
          "metadata": {
            "tags": [],
            "needs_background": "light"
          }
        }
      ]
    },
    {
      "cell_type": "code",
      "metadata": {
        "id": "AeJeN2MFPK-I"
      },
      "source": [
        ""
      ],
      "execution_count": null,
      "outputs": []
    }
  ]
}