{
  "nbformat": 4,
  "nbformat_minor": 0,
  "metadata": {
    "colab": {
      "name": "Untitled131.ipynb",
      "provenance": [],
      "collapsed_sections": []
    },
    "kernelspec": {
      "name": "python3",
      "display_name": "Python 3"
    }
  },
  "cells": [
    {
      "cell_type": "code",
      "metadata": {
        "id": "p2SoyMPEw0GO"
      },
      "source": [
        "import tensorflow as tf\r\n",
        "import numpy as np\r\n",
        "import matplotlib.pyplot as plt\r\n",
        "import pandas as pd\r\n"
      ],
      "execution_count": null,
      "outputs": []
    },
    {
      "cell_type": "code",
      "metadata": {
        "colab": {
          "base_uri": "https://localhost:8080/"
        },
        "id": "C0v-_FWp0HBc",
        "outputId": "99d74148-9431-47f8-dbc1-5cf2e7ddad34"
      },
      "source": [
        "x = np.arange(0,25)\r\n",
        "x"
      ],
      "execution_count": null,
      "outputs": [
        {
          "output_type": "execute_result",
          "data": {
            "text/plain": [
              "array([ 0,  1,  2,  3,  4,  5,  6,  7,  8,  9, 10, 11, 12, 13, 14, 15, 16,\n",
              "       17, 18, 19, 20, 21, 22, 23, 24])"
            ]
          },
          "metadata": {
            "tags": []
          },
          "execution_count": 6
        }
      ]
    },
    {
      "cell_type": "code",
      "metadata": {
        "colab": {
          "base_uri": "https://localhost:8080/"
        },
        "id": "hZ6OIEoq0OAF",
        "outputId": "c2fab52b-bfe4-4421-c021-872320fea18d"
      },
      "source": [
        "x = tf.constant(x)\r\n",
        "x\r\n"
      ],
      "execution_count": null,
      "outputs": [
        {
          "output_type": "execute_result",
          "data": {
            "text/plain": [
              "<tf.Tensor: shape=(25,), dtype=int64, numpy=\n",
              "array([ 0,  1,  2,  3,  4,  5,  6,  7,  8,  9, 10, 11, 12, 13, 14, 15, 16,\n",
              "       17, 18, 19, 20, 21, 22, 23, 24])>"
            ]
          },
          "metadata": {
            "tags": []
          },
          "execution_count": 7
        }
      ]
    },
    {
      "cell_type": "code",
      "metadata": {
        "colab": {
          "base_uri": "https://localhost:8080/"
        },
        "id": "lAeN9eu70byC",
        "outputId": "9a781e61-a353-460e-e1a7-e3a82e68ced5"
      },
      "source": [
        "x= tf.square(x)\r\n",
        "x"
      ],
      "execution_count": null,
      "outputs": [
        {
          "output_type": "execute_result",
          "data": {
            "text/plain": [
              "<tf.Tensor: shape=(25,), dtype=int64, numpy=\n",
              "array([  0,   1,   4,   9,  16,  25,  36,  49,  64,  81, 100, 121, 144,\n",
              "       169, 196, 225, 256, 289, 324, 361, 400, 441, 484, 529, 576])>"
            ]
          },
          "metadata": {
            "tags": []
          },
          "execution_count": 8
        }
      ]
    },
    {
      "cell_type": "code",
      "metadata": {
        "id": "mDBHt_hh0uyn"
      },
      "source": [
        "x= tf.reshape(x,(5,5))"
      ],
      "execution_count": null,
      "outputs": []
    },
    {
      "cell_type": "code",
      "metadata": {
        "colab": {
          "base_uri": "https://localhost:8080/"
        },
        "id": "OlE1Ldt207v9",
        "outputId": "2225d2cb-3f7f-4bdb-dbbd-12910ec708cd"
      },
      "source": [
        "x"
      ],
      "execution_count": null,
      "outputs": [
        {
          "output_type": "execute_result",
          "data": {
            "text/plain": [
              "<tf.Tensor: shape=(5, 5), dtype=int64, numpy=\n",
              "array([[  0,   1,   4,   9,  16],\n",
              "       [ 25,  36,  49,  64,  81],\n",
              "       [100, 121, 144, 169, 196],\n",
              "       [225, 256, 289, 324, 361],\n",
              "       [400, 441, 484, 529, 576]])>"
            ]
          },
          "metadata": {
            "tags": []
          },
          "execution_count": 10
        }
      ]
    },
    {
      "cell_type": "code",
      "metadata": {
        "id": "dBLUE7KN08TE"
      },
      "source": [
        "tmp = tf.constant([1,2,3,4])\r\n",
        "tmp = tf.reshape(tmp,(2,2))"
      ],
      "execution_count": null,
      "outputs": []
    },
    {
      "cell_type": "code",
      "metadata": {
        "colab": {
          "base_uri": "https://localhost:8080/"
        },
        "id": "O16a8tDr5_2T",
        "outputId": "d3cc94f8-7906-4aa9-85a2-8bc96afa1aed"
      },
      "source": [
        "tmp"
      ],
      "execution_count": null,
      "outputs": [
        {
          "output_type": "execute_result",
          "data": {
            "text/plain": [
              "<tf.Tensor: shape=(2, 2), dtype=int32, numpy=\n",
              "array([[1, 2],\n",
              "       [3, 4]], dtype=int32)>"
            ]
          },
          "metadata": {
            "tags": []
          },
          "execution_count": 13
        }
      ]
    },
    {
      "cell_type": "code",
      "metadata": {
        "colab": {
          "base_uri": "https://localhost:8080/"
        },
        "id": "VVInfsPA6CG9",
        "outputId": "5a6c11e0-6aaf-4f19-c58f-cb3525c71d32"
      },
      "source": [
        "x = tf.cast(x,tf.float32)\r\n",
        "x"
      ],
      "execution_count": null,
      "outputs": [
        {
          "output_type": "execute_result",
          "data": {
            "text/plain": [
              "<tf.Tensor: shape=(5, 5), dtype=float32, numpy=\n",
              "array([[  0.,   1.,   4.,   9.,  16.],\n",
              "       [ 25.,  36.,  49.,  64.,  81.],\n",
              "       [100., 121., 144., 169., 196.],\n",
              "       [225., 256., 289., 324., 361.],\n",
              "       [400., 441., 484., 529., 576.]], dtype=float32)>"
            ]
          },
          "metadata": {
            "tags": []
          },
          "execution_count": 14
        }
      ]
    },
    {
      "cell_type": "code",
      "metadata": {
        "colab": {
          "base_uri": "https://localhost:8080/"
        },
        "id": "SRYM1efm9Zj1",
        "outputId": "ab0347cf-6779-465f-b8bb-0014f9835b7f"
      },
      "source": [
        "y = tf.constant(2,dtype='float32')\r\n",
        "y"
      ],
      "execution_count": null,
      "outputs": [
        {
          "output_type": "execute_result",
          "data": {
            "text/plain": [
              "<tf.Tensor: shape=(), dtype=float32, numpy=2.0>"
            ]
          },
          "metadata": {
            "tags": []
          },
          "execution_count": 15
        }
      ]
    },
    {
      "cell_type": "code",
      "metadata": {
        "id": "oHskjKid9iv6"
      },
      "source": [
        "result = tf.multiply(x,y)"
      ],
      "execution_count": null,
      "outputs": []
    },
    {
      "cell_type": "code",
      "metadata": {
        "colab": {
          "base_uri": "https://localhost:8080/"
        },
        "id": "MaOFYdyq9mYZ",
        "outputId": "f5c6ccde-4ce5-4481-c541-70be07236776"
      },
      "source": [
        "result"
      ],
      "execution_count": null,
      "outputs": [
        {
          "output_type": "execute_result",
          "data": {
            "text/plain": [
              "<tf.Tensor: shape=(5, 5), dtype=float32, numpy=\n",
              "array([[   0.,    2.,    8.,   18.,   32.],\n",
              "       [  50.,   72.,   98.,  128.,  162.],\n",
              "       [ 200.,  242.,  288.,  338.,  392.],\n",
              "       [ 450.,  512.,  578.,  648.,  722.],\n",
              "       [ 800.,  882.,  968., 1058., 1152.]], dtype=float32)>"
            ]
          },
          "metadata": {
            "tags": []
          },
          "execution_count": 17
        }
      ]
    },
    {
      "cell_type": "code",
      "metadata": {
        "id": "cKiOrU949nTv"
      },
      "source": [
        "y = tf.constant([1,2,3,4,5],dtype='float32')"
      ],
      "execution_count": null,
      "outputs": []
    },
    {
      "cell_type": "code",
      "metadata": {
        "colab": {
          "base_uri": "https://localhost:8080/"
        },
        "id": "f5_-oCzT9_AG",
        "outputId": "60bfcea1-334e-44ae-985a-a727783f2269"
      },
      "source": [
        "result = x+y\r\n",
        "result"
      ],
      "execution_count": null,
      "outputs": [
        {
          "output_type": "execute_result",
          "data": {
            "text/plain": [
              "<tf.Tensor: shape=(5, 5), dtype=float32, numpy=\n",
              "array([[  1.,   3.,   7.,  13.,  21.],\n",
              "       [ 26.,  38.,  52.,  68.,  86.],\n",
              "       [101., 123., 147., 173., 201.],\n",
              "       [226., 258., 292., 328., 366.],\n",
              "       [401., 443., 487., 533., 581.]], dtype=float32)>"
            ]
          },
          "metadata": {
            "tags": []
          },
          "execution_count": 20
        }
      ]
    },
    {
      "cell_type": "code",
      "metadata": {
        "colab": {
          "base_uri": "https://localhost:8080/"
        },
        "id": "h9gU72cJ-HXM",
        "outputId": "a68329b4-145d-40f2-f757-bd5fa3ac584c"
      },
      "source": [
        "try:\r\n",
        "  x= tf.Variable([1,2,3,4],shape=(2,2))\r\n",
        "except ValueError as v:\r\n",
        "  print(v)"
      ],
      "execution_count": null,
      "outputs": [
        {
          "output_type": "stream",
          "text": [
            "The initial value's shape ((4,)) is not compatible with the explicitly supplied `shape` argument ((2, 2)).\n"
          ],
          "name": "stdout"
        }
      ]
    },
    {
      "cell_type": "code",
      "metadata": {
        "colab": {
          "base_uri": "https://localhost:8080/"
        },
        "id": "UAyJsItK_Wn3",
        "outputId": "097e23a1-54c5-49c2-f4fa-02742a7ed282"
      },
      "source": [
        "vector = tf.Variable([1,2,4,5],shape=tf.TensorShape(None))\r\n",
        "vector"
      ],
      "execution_count": null,
      "outputs": [
        {
          "output_type": "execute_result",
          "data": {
            "text/plain": [
              "<tf.Variable 'Variable:0' shape=<unknown> dtype=int32, numpy=array([1, 2, 4, 5], dtype=int32)>"
            ]
          },
          "metadata": {
            "tags": []
          },
          "execution_count": 22
        }
      ]
    },
    {
      "cell_type": "code",
      "metadata": {
        "id": "Zys6vMZz_4hd"
      },
      "source": [
        "vector = tf.reshape(vector,(2,2))"
      ],
      "execution_count": null,
      "outputs": []
    },
    {
      "cell_type": "code",
      "metadata": {
        "colab": {
          "base_uri": "https://localhost:8080/"
        },
        "id": "VfdaOLx3ABIc",
        "outputId": "7d7f0394-0491-44d9-8eba-2b98929bc731"
      },
      "source": [
        "vector"
      ],
      "execution_count": null,
      "outputs": [
        {
          "output_type": "execute_result",
          "data": {
            "text/plain": [
              "<tf.Tensor: shape=(2, 2), dtype=int32, numpy=\n",
              "array([[1, 2],\n",
              "       [4, 5]], dtype=int32)>"
            ]
          },
          "metadata": {
            "tags": []
          },
          "execution_count": 24
        }
      ]
    },
    {
      "cell_type": "code",
      "metadata": {
        "colab": {
          "base_uri": "https://localhost:8080/"
        },
        "id": "VOtPwFgiACSs",
        "outputId": "e2b6d767-2d7f-4319-ed77-5ba5140ba72d"
      },
      "source": [
        "x = tf.ones((2,2))\r\n",
        "with tf.GradientTape() as t:\r\n",
        "  t.watch(x)\r\n",
        "  y= tf.reduce_sum(x)\r\n",
        "  z = tf.square(y)\r\n",
        "dz_dx = t.gradient(z,x)\r\n",
        "print(dz_dx)"
      ],
      "execution_count": null,
      "outputs": [
        {
          "output_type": "stream",
          "text": [
            "tf.Tensor(\n",
            "[[8. 8.]\n",
            " [8. 8.]], shape=(2, 2), dtype=float32)\n"
          ],
          "name": "stdout"
        }
      ]
    },
    {
      "cell_type": "code",
      "metadata": {
        "colab": {
          "base_uri": "https://localhost:8080/"
        },
        "id": "etGKQatkd2Q8",
        "outputId": "d7c09478-0b00-4139-d338-457f88bc06d3"
      },
      "source": [
        "x= tf.constant(3.0)\r\n",
        "with tf.GradientTape() as t:\r\n",
        "  t.watch(x)\r\n",
        "  y = x*x\r\n",
        "  z = y*y \r\n",
        "dz_dx = t.gradient(z,x)\r\n",
        "print(dz_dx)"
      ],
      "execution_count": null,
      "outputs": [
        {
          "output_type": "stream",
          "text": [
            "tf.Tensor(108.0, shape=(), dtype=float32)\n"
          ],
          "name": "stdout"
        }
      ]
    },
    {
      "cell_type": "code",
      "metadata": {
        "colab": {
          "base_uri": "https://localhost:8080/"
        },
        "id": "RTg2WMXa_iKZ",
        "outputId": "c05826d3-c5f8-4ccc-a8bd-343d073059a5"
      },
      "source": [
        "try:\r\n",
        "  dz_dy = t.gradient(z,y)\r\n",
        "  print(dz_dy)\r\n",
        "except RuntimeError as v :\r\n",
        "  print(v)"
      ],
      "execution_count": null,
      "outputs": [
        {
          "output_type": "stream",
          "text": [
            "A non-persistent GradientTape can only be used tocompute one set of gradients (or jacobians)\n"
          ],
          "name": "stdout"
        }
      ]
    },
    {
      "cell_type": "code",
      "metadata": {
        "id": "N4vJu8Pk_6Bh"
      },
      "source": [
        "x =  tf.constant(3.0)\r\n",
        "with tf.GradientTape(persistent=True) as t:\r\n",
        "  t.watch(x)\r\n",
        "  y= x*x\r\n",
        "  z =y*y\r\n",
        "dz_dx = t.gradient(z,x)"
      ],
      "execution_count": null,
      "outputs": []
    },
    {
      "cell_type": "code",
      "metadata": {
        "id": "AfxHXk-oEbH0"
      },
      "source": [
        "dy_dx = t.gradient(y,x)"
      ],
      "execution_count": null,
      "outputs": []
    },
    {
      "cell_type": "code",
      "metadata": {
        "colab": {
          "base_uri": "https://localhost:8080/"
        },
        "id": "EMngwgMzEvh6",
        "outputId": "ab10023a-2334-44b8-f38e-f9df52027457"
      },
      "source": [
        "print(f'{dz_dx},{dy_dx}')"
      ],
      "execution_count": null,
      "outputs": [
        {
          "output_type": "stream",
          "text": [
            "108.0,6.0\n"
          ],
          "name": "stdout"
        }
      ]
    },
    {
      "cell_type": "code",
      "metadata": {
        "id": "Ok9v_99xFYWE"
      },
      "source": [
        "del t"
      ],
      "execution_count": null,
      "outputs": []
    },
    {
      "cell_type": "code",
      "metadata": {
        "id": "0NmHlPTsFeO3"
      },
      "source": [
        "x = tf.Variable(1.0)\r\n",
        "with tf.GradientTape() as t1:\r\n",
        "  with tf.GradientTape() as t2:\r\n",
        "    y= x*x*x\r\n",
        "  dy_dx = t2.gradient(y,x)\r\n",
        "dz_dx = t1.gradient(dy_dx,x)"
      ],
      "execution_count": null,
      "outputs": []
    },
    {
      "cell_type": "code",
      "metadata": {
        "colab": {
          "base_uri": "https://localhost:8080/"
        },
        "id": "qi4BJTr8KCof",
        "outputId": "f23a8bc0-92d7-4dbc-f4c9-59bc9b46a93b"
      },
      "source": [
        "print(f'{dy_dx},{dz_dx}')"
      ],
      "execution_count": null,
      "outputs": [
        {
          "output_type": "stream",
          "text": [
            "3.0,6.0\n"
          ],
          "name": "stdout"
        }
      ]
    },
    {
      "cell_type": "code",
      "metadata": {
        "id": "p6wuu-0RKOCY"
      },
      "source": [
        "x = tf.Variable(1.0)\r\n",
        "with tf.GradientTape() as t1:\r\n",
        "  with tf.GradientTape() as t2:\r\n",
        "    y= x*x*x\r\n",
        "    dy_dx=t2.gradient(y,x)\r\n",
        "dz_dx = t1.gradient(dy_dx,x)"
      ],
      "execution_count": null,
      "outputs": []
    },
    {
      "cell_type": "code",
      "metadata": {
        "colab": {
          "base_uri": "https://localhost:8080/"
        },
        "id": "fj4JJDLPOk47",
        "outputId": "4cb13d6a-6874-45b6-fd6f-cc3e234f5d33"
      },
      "source": [
        "print(dy_dx )\r\n",
        "print(dz_dx)"
      ],
      "execution_count": null,
      "outputs": [
        {
          "output_type": "stream",
          "text": [
            "tf.Tensor(3.0, shape=(), dtype=float32)\n",
            "tf.Tensor(6.0, shape=(), dtype=float32)\n"
          ],
          "name": "stdout"
        }
      ]
    },
    {
      "cell_type": "code",
      "metadata": {
        "id": "KZYBXcO6Oon6"
      },
      "source": [
        "x = tf.Variable(1.0)\r\n",
        "with tf.GradientTape() as t1:\r\n",
        "  with tf.GradientTape() as t2:\r\n",
        "    y= x*x*x\r\n",
        "    dy_dx=t2.gradient(y,x)\r\n",
        "    dz_dx = t1.gradient(dy_dx,x)"
      ],
      "execution_count": null,
      "outputs": []
    },
    {
      "cell_type": "code",
      "metadata": {
        "colab": {
          "base_uri": "https://localhost:8080/"
        },
        "id": "kfumCEoKO2wp",
        "outputId": "df26243f-27d3-48f8-d2fe-0dee9f36b719"
      },
      "source": [
        "print(dy_dx )\r\n",
        "print(dz_dx)"
      ],
      "execution_count": null,
      "outputs": [
        {
          "output_type": "stream",
          "text": [
            "tf.Tensor(3.0, shape=(), dtype=float32)\n",
            "tf.Tensor(6.0, shape=(), dtype=float32)\n"
          ],
          "name": "stdout"
        }
      ]
    },
    {
      "cell_type": "code",
      "metadata": {
        "id": "dNgvq-NYO3Sh"
      },
      "source": [
        "x = tf.Variable(1.0)\r\n",
        "with tf.GradientTape(persistent=True) as t1:\r\n",
        "  with tf.GradientTape(persistent=True) as t2:\r\n",
        "    y= x*x*x\r\n",
        "\r\n",
        "dy_dx=t2.gradient(y,x)\r\n",
        "dz_dx = t1.gradient(dy_dx,x)"
      ],
      "execution_count": null,
      "outputs": []
    },
    {
      "cell_type": "code",
      "metadata": {
        "colab": {
          "base_uri": "https://localhost:8080/"
        },
        "id": "nQ_-tW-7PbIr",
        "outputId": "d70189ce-b509-45ed-a4b1-6610a95bd7a2"
      },
      "source": [
        "print(dy_dx )\r\n",
        "print(dz_dx)\r\n"
      ],
      "execution_count": null,
      "outputs": [
        {
          "output_type": "stream",
          "text": [
            "tf.Tensor(3.0, shape=(), dtype=float32)\n",
            "None\n"
          ],
          "name": "stdout"
        }
      ]
    },
    {
      "cell_type": "code",
      "metadata": {
        "id": "BwbgkAuHPdBW"
      },
      "source": [
        "def convert_this(array):\r\n",
        "  tensor = tf.constant(array,dtype=tf.int64)\r\n",
        "  return tensor\r\n"
      ],
      "execution_count": null,
      "outputs": []
    },
    {
      "cell_type": "code",
      "metadata": {
        "colab": {
          "base_uri": "https://localhost:8080/"
        },
        "id": "XK8XJNykUDLL",
        "outputId": "8eee8fdb-fa68-4293-f0b4-685115525a72"
      },
      "source": [
        "x = np.arange(1,10)\r\n",
        "y = convert_this(x)\r\n",
        "print(y)"
      ],
      "execution_count": null,
      "outputs": [
        {
          "output_type": "stream",
          "text": [
            "tf.Tensor([1 2 3 4 5 6 7 8 9], shape=(9,), dtype=int64)\n"
          ],
          "name": "stdout"
        }
      ]
    },
    {
      "cell_type": "code",
      "metadata": {
        "id": "colRRaiyULQh"
      },
      "source": [
        "def square_this(array):\r\n",
        "  tensor = tf.constant(array,dtype=tf.int64)\r\n",
        "  square_tensor = tf.square(tensor)\r\n",
        "  return square_tensor"
      ],
      "execution_count": null,
      "outputs": []
    },
    {
      "cell_type": "code",
      "metadata": {
        "colab": {
          "base_uri": "https://localhost:8080/"
        },
        "id": "77Ikvq2pWRFv",
        "outputId": "e08b7b5c-ea4b-474a-c8ce-62156177644c"
      },
      "source": [
        "x = tf.constant(np.arange(1,10))\r\n",
        "x  = square_this(x)\r\n",
        "x"
      ],
      "execution_count": null,
      "outputs": [
        {
          "output_type": "execute_result",
          "data": {
            "text/plain": [
              "<tf.Tensor: shape=(9,), dtype=int64, numpy=array([ 1,  4,  9, 16, 25, 36, 49, 64, 81])>"
            ]
          },
          "metadata": {
            "tags": []
          },
          "execution_count": 58
        }
      ]
    },
    {
      "cell_type": "code",
      "metadata": {
        "id": "kjhjCoaPWdB7"
      },
      "source": [
        "def reshape_this(array,shape):\r\n",
        "    tensor = tf.constant(array)\r\n",
        "    tensor = tf.reshape(tensor,shape)\r\n",
        "    return tensor"
      ],
      "execution_count": null,
      "outputs": []
    },
    {
      "cell_type": "code",
      "metadata": {
        "id": "QDHV4fH3Yzh7"
      },
      "source": [
        "x = np.arange(1,10)\r\n",
        "y = reshape_this(x,(3,3))"
      ],
      "execution_count": null,
      "outputs": []
    },
    {
      "cell_type": "code",
      "metadata": {
        "colab": {
          "base_uri": "https://localhost:8080/"
        },
        "id": "7FXKi-JaY-dZ",
        "outputId": "1664882d-09e1-43fc-f7c6-c1ade5262a53"
      },
      "source": [
        "y"
      ],
      "execution_count": null,
      "outputs": [
        {
          "output_type": "execute_result",
          "data": {
            "text/plain": [
              "<tf.Tensor: shape=(3, 3), dtype=int64, numpy=\n",
              "array([[1, 2, 3],\n",
              "       [4, 5, 6],\n",
              "       [7, 8, 9]])>"
            ]
          },
          "metadata": {
            "tags": []
          },
          "execution_count": 67
        }
      ]
    },
    {
      "cell_type": "code",
      "metadata": {
        "id": "f48ypxL_ZTl-"
      },
      "source": [
        "def cast_this(array,type):\r\n",
        "  tensor = tf.constant(array)\r\n",
        "  tensor = tf.cast(tensor,type)\r\n",
        "  return tensor\r\n",
        "  "
      ],
      "execution_count": null,
      "outputs": []
    },
    {
      "cell_type": "code",
      "metadata": {
        "id": "u8ybRQnpbZc3"
      },
      "source": [
        "array = np.arange(1,5)\r\n",
        "tensor = cast_this(array,tf.float32)"
      ],
      "execution_count": null,
      "outputs": []
    },
    {
      "cell_type": "code",
      "metadata": {
        "colab": {
          "base_uri": "https://localhost:8080/"
        },
        "id": "QV_5hUpNbq8a",
        "outputId": "7549dd10-c1fe-4987-89f8-b969b3b32596"
      },
      "source": [
        "tensor"
      ],
      "execution_count": null,
      "outputs": [
        {
          "output_type": "execute_result",
          "data": {
            "text/plain": [
              "<tf.Tensor: shape=(4,), dtype=float32, numpy=array([1., 2., 3., 4.], dtype=float32)>"
            ]
          },
          "metadata": {
            "tags": []
          },
          "execution_count": 70
        }
      ]
    },
    {
      "cell_type": "code",
      "metadata": {
        "id": "i8pO6v7LbrvY"
      },
      "source": [
        "def multiply_this(tensor1,tensor2):\r\n",
        "  tensor1 = tf.constant(tensor1)\r\n",
        "  tensor2= tf.constant(tensor2)\r\n",
        "  result = tf.multiply(tensor1,tensor2)\r\n",
        "  return result"
      ],
      "execution_count": null,
      "outputs": []
    },
    {
      "cell_type": "code",
      "metadata": {
        "id": "0asFOL2QfqHL"
      },
      "source": [
        "tensor1 = tf.constant(np.array([[1,2],[3,4]]))\r\n",
        "tensor2 = tf.constant(np.array(2))\r\n",
        "result = multiply_this(tensor1,tensor2)"
      ],
      "execution_count": null,
      "outputs": []
    },
    {
      "cell_type": "code",
      "metadata": {
        "colab": {
          "base_uri": "https://localhost:8080/"
        },
        "id": "p41R-f5if7D7",
        "outputId": "ed52dfc4-3e26-4dc6-c551-7f21ec8867fa"
      },
      "source": [
        "result"
      ],
      "execution_count": null,
      "outputs": [
        {
          "output_type": "execute_result",
          "data": {
            "text/plain": [
              "<tf.Tensor: shape=(2, 2), dtype=int64, numpy=\n",
              "array([[2, 4],\n",
              "       [6, 8]])>"
            ]
          },
          "metadata": {
            "tags": []
          },
          "execution_count": 77
        }
      ]
    },
    {
      "cell_type": "code",
      "metadata": {
        "id": "OUlCsCCFf7nJ"
      },
      "source": [
        "def add_this(tensor1,tensor2):\r\n",
        "  tensor1 = tf.constant(tensor1)\r\n",
        "  tensor2 = tf.constant(tensor2)\r\n",
        "  result = tf.add(tensor1,tensor2)\r\n",
        "  return result"
      ],
      "execution_count": null,
      "outputs": []
    },
    {
      "cell_type": "code",
      "metadata": {
        "colab": {
          "base_uri": "https://localhost:8080/"
        },
        "id": "P_bQzLwVhWY9",
        "outputId": "deae4025-ba37-4f15-bcfb-3b6973a2d73b"
      },
      "source": [
        "tensor1 = tf.constant(np.array([1,2,3]))\r\n",
        "tensor2 = tf.constant(np.array([4,5,6]))\r\n",
        "result = add_this(tensor1,tensor2)\r\n",
        "result"
      ],
      "execution_count": null,
      "outputs": [
        {
          "output_type": "execute_result",
          "data": {
            "text/plain": [
              "<tf.Tensor: shape=(3,), dtype=int64, numpy=array([5, 7, 9])>"
            ]
          },
          "metadata": {
            "tags": []
          },
          "execution_count": 79
        }
      ]
    },
    {
      "cell_type": "code",
      "metadata": {
        "id": "spdGOVTPhqDQ"
      },
      "source": [
        "def Gradient_this(x):\r\n",
        "  with tf.GradientTape() as tape:\r\n",
        "    tape.watch(x)\r\n",
        "    y = 3*x**3-2*x**2+x\r\n",
        "    z = tf.reduce_sum(y)\r\n",
        "  dz_dx = tape.gradient(z,x)\r\n",
        "  return dz_dx"
      ],
      "execution_count": null,
      "outputs": []
    },
    {
      "cell_type": "code",
      "metadata": {
        "id": "27YSvcOVkaLP"
      },
      "source": [
        "x = tf.constant(2.0)\r\n"
      ],
      "execution_count": null,
      "outputs": []
    },
    {
      "cell_type": "code",
      "metadata": {
        "id": "6_-xiw7Dkb2K"
      },
      "source": [
        "y = Gradient_this(x)"
      ],
      "execution_count": null,
      "outputs": []
    },
    {
      "cell_type": "code",
      "metadata": {
        "colab": {
          "base_uri": "https://localhost:8080/"
        },
        "id": "9RgPIov8knEB",
        "outputId": "12755941-154f-49f8-bb9f-4bc505ac34ab"
      },
      "source": [
        "y "
      ],
      "execution_count": null,
      "outputs": [
        {
          "output_type": "execute_result",
          "data": {
            "text/plain": [
              "<tf.Tensor: shape=(), dtype=float32, numpy=29.0>"
            ]
          },
          "metadata": {
            "tags": []
          },
          "execution_count": 98
        }
      ]
    },
    {
      "cell_type": "code",
      "metadata": {
        "colab": {
          "base_uri": "https://localhost:8080/"
        },
        "id": "MWzBPFcSmgKp",
        "outputId": "f0185ee0-fd07-4461-d289-83701e5cd8f7"
      },
      "source": [
        "y.numpy()"
      ],
      "execution_count": null,
      "outputs": [
        {
          "output_type": "execute_result",
          "data": {
            "text/plain": [
              "29.0"
            ]
          },
          "metadata": {
            "tags": []
          },
          "execution_count": 99
        }
      ]
    },
    {
      "cell_type": "code",
      "metadata": {
        "id": "H-T1RRGVmh_f"
      },
      "source": [
        ""
      ],
      "execution_count": null,
      "outputs": []
    }
  ]
}